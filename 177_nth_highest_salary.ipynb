{
 "cells": [
  {
   "metadata": {},
   "cell_type": "markdown",
   "source": [
    "## 177. Nth Highest Salary\n",
    "\n",
    "Write a solution to find the ```nth``` highest **distinct** salary from the ```Employee``` table. If there are less than ```n``` distinct salaries, return ```null```."
   ],
   "id": "72a0ded4426dbf1d"
  },
  {
   "cell_type": "code",
   "id": "initial_id",
   "metadata": {
    "collapsed": true,
    "ExecuteTime": {
     "end_time": "2025-06-03T11:57:07.761947Z",
     "start_time": "2025-06-03T11:57:06.424518Z"
    }
   },
   "source": "import pandas as pd",
   "outputs": [],
   "execution_count": 1
  },
  {
   "metadata": {
    "ExecuteTime": {
     "end_time": "2025-06-03T12:10:03.227820Z",
     "start_time": "2025-06-03T12:10:03.224652Z"
    }
   },
   "cell_type": "code",
   "source": [
    "employee = pd.DataFrame(\n",
    "    {'id': [1, 2, 3, 4, 5], 'salary': [100, 200, 300, 200, 400]}\n",
    ")"
   ],
   "id": "aff5cc54a5722c6b",
   "outputs": [],
   "execution_count": 15
  },
  {
   "metadata": {
    "ExecuteTime": {
     "end_time": "2025-06-03T12:10:04.501533Z",
     "start_time": "2025-06-03T12:10:04.497477Z"
    }
   },
   "cell_type": "code",
   "source": [
    "def nth_highest_salary(df: pd.DataFrame, N: int):\n",
    "    if N <= 0:\n",
    "        return pd.DataFrame({f'getNthHighestSalary({N})': [None]})\n",
    "\n",
    "    # Don't use sort_values to the whole dataset\n",
    "    # unique_salaries = df['salary'].drop_duplicates().sort_values(ascending=False)\n",
    "    unique_salaries = df.salary.drop_duplicates()\n",
    "\n",
    "    if len(unique_salaries) < N:\n",
    "        return pd.DataFrame({f'getNthHighestSalary({N})': [None]})\n",
    "\n",
    "    # nlargest is more efficient for small N\n",
    "    nth_salary = unique_salaries.nlargest(N).iloc[-1]\n",
    "\n",
    "    return pd.DataFrame({f'getNthHighestSalary({N})': [nth_salary]})\n"
   ],
   "id": "5c86d236c35f89b1",
   "outputs": [],
   "execution_count": 16
  },
  {
   "metadata": {
    "ExecuteTime": {
     "end_time": "2025-06-03T12:10:14.230129Z",
     "start_time": "2025-06-03T12:10:14.225657Z"
    }
   },
   "cell_type": "code",
   "source": "nth_highest_salary(employee, 2)",
   "id": "c3c82e535faf87e3",
   "outputs": [
    {
     "data": {
      "text/plain": [
       "   getNthHighestSalary(2)\n",
       "0                     300"
      ],
      "text/html": [
       "<div>\n",
       "<style scoped>\n",
       "    .dataframe tbody tr th:only-of-type {\n",
       "        vertical-align: middle;\n",
       "    }\n",
       "\n",
       "    .dataframe tbody tr th {\n",
       "        vertical-align: top;\n",
       "    }\n",
       "\n",
       "    .dataframe thead th {\n",
       "        text-align: right;\n",
       "    }\n",
       "</style>\n",
       "<table border=\"1\" class=\"dataframe\">\n",
       "  <thead>\n",
       "    <tr style=\"text-align: right;\">\n",
       "      <th></th>\n",
       "      <th>getNthHighestSalary(2)</th>\n",
       "    </tr>\n",
       "  </thead>\n",
       "  <tbody>\n",
       "    <tr>\n",
       "      <th>0</th>\n",
       "      <td>300</td>\n",
       "    </tr>\n",
       "  </tbody>\n",
       "</table>\n",
       "</div>"
      ]
     },
     "execution_count": 17,
     "metadata": {},
     "output_type": "execute_result"
    }
   ],
   "execution_count": 17
  },
  {
   "metadata": {
    "ExecuteTime": {
     "end_time": "2025-06-03T12:10:35.235314Z",
     "start_time": "2025-06-03T12:10:35.230310Z"
    }
   },
   "cell_type": "code",
   "source": "nth_highest_salary(employee, 5)",
   "id": "a8922bf2510b1d70",
   "outputs": [
    {
     "data": {
      "text/plain": [
       "  getNthHighestSalary(5)\n",
       "0                   None"
      ],
      "text/html": [
       "<div>\n",
       "<style scoped>\n",
       "    .dataframe tbody tr th:only-of-type {\n",
       "        vertical-align: middle;\n",
       "    }\n",
       "\n",
       "    .dataframe tbody tr th {\n",
       "        vertical-align: top;\n",
       "    }\n",
       "\n",
       "    .dataframe thead th {\n",
       "        text-align: right;\n",
       "    }\n",
       "</style>\n",
       "<table border=\"1\" class=\"dataframe\">\n",
       "  <thead>\n",
       "    <tr style=\"text-align: right;\">\n",
       "      <th></th>\n",
       "      <th>getNthHighestSalary(5)</th>\n",
       "    </tr>\n",
       "  </thead>\n",
       "  <tbody>\n",
       "    <tr>\n",
       "      <th>0</th>\n",
       "      <td>None</td>\n",
       "    </tr>\n",
       "  </tbody>\n",
       "</table>\n",
       "</div>"
      ]
     },
     "execution_count": 18,
     "metadata": {},
     "output_type": "execute_result"
    }
   ],
   "execution_count": 18
  },
  {
   "metadata": {},
   "cell_type": "code",
   "outputs": [],
   "execution_count": null,
   "source": "",
   "id": "f8fed4af40b6646"
  }
 ],
 "metadata": {
  "kernelspec": {
   "display_name": "Python 3",
   "language": "python",
   "name": "python3"
  },
  "language_info": {
   "codemirror_mode": {
    "name": "ipython",
    "version": 2
   },
   "file_extension": ".py",
   "mimetype": "text/x-python",
   "name": "python",
   "nbconvert_exporter": "python",
   "pygments_lexer": "ipython2",
   "version": "2.7.6"
  }
 },
 "nbformat": 4,
 "nbformat_minor": 5
}
