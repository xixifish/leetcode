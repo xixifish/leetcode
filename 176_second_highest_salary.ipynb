{
 "cells": [
  {
   "metadata": {},
   "cell_type": "markdown",
   "source": [
    "## 176. Second Highest Salary\n",
    "Write a solution to find the second highest **distinct** salary from the ```Employee``` table. If there is no second highest salary, return null (return None in Pandas)."
   ],
   "id": "ef559088ded81ca"
  },
  {
   "cell_type": "code",
   "id": "initial_id",
   "metadata": {
    "collapsed": true,
    "ExecuteTime": {
     "end_time": "2025-06-02T11:28:51.388127Z",
     "start_time": "2025-06-02T11:28:46.211648Z"
    }
   },
   "source": "import pandas as pd",
   "outputs": [],
   "execution_count": 3
  },
  {
   "metadata": {
    "ExecuteTime": {
     "end_time": "2025-06-02T11:31:25.832260Z",
     "start_time": "2025-06-02T11:31:25.828064Z"
    }
   },
   "cell_type": "code",
   "source": [
    "employee = pd.DataFrame(\n",
    "    {'id': [1, 2, 3], 'salary': [100, 200, 300]}\n",
    ")\n",
    "employee"
   ],
   "id": "8770babc386952ac",
   "outputs": [
    {
     "data": {
      "text/plain": [
       "   id  salary\n",
       "0   1     100\n",
       "1   2     200\n",
       "2   3     300"
      ],
      "text/html": [
       "<div>\n",
       "<style scoped>\n",
       "    .dataframe tbody tr th:only-of-type {\n",
       "        vertical-align: middle;\n",
       "    }\n",
       "\n",
       "    .dataframe tbody tr th {\n",
       "        vertical-align: top;\n",
       "    }\n",
       "\n",
       "    .dataframe thead th {\n",
       "        text-align: right;\n",
       "    }\n",
       "</style>\n",
       "<table border=\"1\" class=\"dataframe\">\n",
       "  <thead>\n",
       "    <tr style=\"text-align: right;\">\n",
       "      <th></th>\n",
       "      <th>id</th>\n",
       "      <th>salary</th>\n",
       "    </tr>\n",
       "  </thead>\n",
       "  <tbody>\n",
       "    <tr>\n",
       "      <th>0</th>\n",
       "      <td>1</td>\n",
       "      <td>100</td>\n",
       "    </tr>\n",
       "    <tr>\n",
       "      <th>1</th>\n",
       "      <td>2</td>\n",
       "      <td>200</td>\n",
       "    </tr>\n",
       "    <tr>\n",
       "      <th>2</th>\n",
       "      <td>3</td>\n",
       "      <td>300</td>\n",
       "    </tr>\n",
       "  </tbody>\n",
       "</table>\n",
       "</div>"
      ]
     },
     "execution_count": 7,
     "metadata": {},
     "output_type": "execute_result"
    }
   ],
   "execution_count": 7
  },
  {
   "metadata": {
    "ExecuteTime": {
     "end_time": "2025-06-02T11:33:16.045263Z",
     "start_time": "2025-06-02T11:33:16.039525Z"
    }
   },
   "cell_type": "code",
   "source": "employee.sort_values('salary', ascending=False)",
   "id": "7a1dd3b32d9b3edf",
   "outputs": [
    {
     "data": {
      "text/plain": [
       "   id  salary\n",
       "2   3     300\n",
       "1   2     200\n",
       "0   1     100"
      ],
      "text/html": [
       "<div>\n",
       "<style scoped>\n",
       "    .dataframe tbody tr th:only-of-type {\n",
       "        vertical-align: middle;\n",
       "    }\n",
       "\n",
       "    .dataframe tbody tr th {\n",
       "        vertical-align: top;\n",
       "    }\n",
       "\n",
       "    .dataframe thead th {\n",
       "        text-align: right;\n",
       "    }\n",
       "</style>\n",
       "<table border=\"1\" class=\"dataframe\">\n",
       "  <thead>\n",
       "    <tr style=\"text-align: right;\">\n",
       "      <th></th>\n",
       "      <th>id</th>\n",
       "      <th>salary</th>\n",
       "    </tr>\n",
       "  </thead>\n",
       "  <tbody>\n",
       "    <tr>\n",
       "      <th>2</th>\n",
       "      <td>3</td>\n",
       "      <td>300</td>\n",
       "    </tr>\n",
       "    <tr>\n",
       "      <th>1</th>\n",
       "      <td>2</td>\n",
       "      <td>200</td>\n",
       "    </tr>\n",
       "    <tr>\n",
       "      <th>0</th>\n",
       "      <td>1</td>\n",
       "      <td>100</td>\n",
       "    </tr>\n",
       "  </tbody>\n",
       "</table>\n",
       "</div>"
      ]
     },
     "execution_count": 9,
     "metadata": {},
     "output_type": "execute_result"
    }
   ],
   "execution_count": 9
  },
  {
   "metadata": {
    "ExecuteTime": {
     "end_time": "2025-06-02T11:35:27.948007Z",
     "start_time": "2025-06-02T11:35:27.942687Z"
    }
   },
   "cell_type": "code",
   "source": "employee.iloc[1:, ]",
   "id": "9230f2fd77dfa4cb",
   "outputs": [
    {
     "data": {
      "text/plain": [
       "   id  salary\n",
       "1   2     200\n",
       "2   3     300"
      ],
      "text/html": [
       "<div>\n",
       "<style scoped>\n",
       "    .dataframe tbody tr th:only-of-type {\n",
       "        vertical-align: middle;\n",
       "    }\n",
       "\n",
       "    .dataframe tbody tr th {\n",
       "        vertical-align: top;\n",
       "    }\n",
       "\n",
       "    .dataframe thead th {\n",
       "        text-align: right;\n",
       "    }\n",
       "</style>\n",
       "<table border=\"1\" class=\"dataframe\">\n",
       "  <thead>\n",
       "    <tr style=\"text-align: right;\">\n",
       "      <th></th>\n",
       "      <th>id</th>\n",
       "      <th>salary</th>\n",
       "    </tr>\n",
       "  </thead>\n",
       "  <tbody>\n",
       "    <tr>\n",
       "      <th>1</th>\n",
       "      <td>2</td>\n",
       "      <td>200</td>\n",
       "    </tr>\n",
       "    <tr>\n",
       "      <th>2</th>\n",
       "      <td>3</td>\n",
       "      <td>300</td>\n",
       "    </tr>\n",
       "  </tbody>\n",
       "</table>\n",
       "</div>"
      ]
     },
     "execution_count": 11,
     "metadata": {},
     "output_type": "execute_result"
    }
   ],
   "execution_count": 11
  },
  {
   "metadata": {
    "ExecuteTime": {
     "end_time": "2025-06-02T11:48:12.836007Z",
     "start_time": "2025-06-02T11:48:12.832294Z"
    }
   },
   "cell_type": "code",
   "source": [
    "def second_highest_salary(df: pd.DataFrame):\n",
    "    # sorted_df = df.sort_values('salary', ascending=False)\n",
    "    # Get unique salary values and sort them in descending order\n",
    "    unique_salaries = df['salary'].drop_duplicates().sort_values(ascending=False)\n",
    "\n",
    "    # Check if there are at least two distinct salary values\n",
    "    if len(unique_salaries) < 2:\n",
    "        return pd.DataFrame({'SecondHighestSalary': [None]})\n",
    "\n",
    "    # Get the second-highest salary\n",
    "    second_highest = unique_salaries.iloc[1]\n",
    "\n",
    "    return pd.DataFrame({'SecondHighestSalary': [second_highest]})"
   ],
   "id": "c270b387337faa5b",
   "outputs": [],
   "execution_count": 16
  },
  {
   "metadata": {
    "ExecuteTime": {
     "end_time": "2025-06-02T11:48:13.194334Z",
     "start_time": "2025-06-02T11:48:13.189507Z"
    }
   },
   "cell_type": "code",
   "source": "second_highest_salary(employee)",
   "id": "5c22727768b979f",
   "outputs": [
    {
     "data": {
      "text/plain": [
       "   SecondHighestSalary\n",
       "0                  200"
      ],
      "text/html": [
       "<div>\n",
       "<style scoped>\n",
       "    .dataframe tbody tr th:only-of-type {\n",
       "        vertical-align: middle;\n",
       "    }\n",
       "\n",
       "    .dataframe tbody tr th {\n",
       "        vertical-align: top;\n",
       "    }\n",
       "\n",
       "    .dataframe thead th {\n",
       "        text-align: right;\n",
       "    }\n",
       "</style>\n",
       "<table border=\"1\" class=\"dataframe\">\n",
       "  <thead>\n",
       "    <tr style=\"text-align: right;\">\n",
       "      <th></th>\n",
       "      <th>SecondHighestSalary</th>\n",
       "    </tr>\n",
       "  </thead>\n",
       "  <tbody>\n",
       "    <tr>\n",
       "      <th>0</th>\n",
       "      <td>200</td>\n",
       "    </tr>\n",
       "  </tbody>\n",
       "</table>\n",
       "</div>"
      ]
     },
     "execution_count": 17,
     "metadata": {},
     "output_type": "execute_result"
    }
   ],
   "execution_count": 17
  },
  {
   "metadata": {
    "ExecuteTime": {
     "end_time": "2025-06-02T11:48:13.332702Z",
     "start_time": "2025-06-02T11:48:13.330925Z"
    }
   },
   "cell_type": "code",
   "source": "employee_short = pd.DataFrame({'id': [1], 'salary':[100]})",
   "id": "b2daf4ffd8d16be8",
   "outputs": [],
   "execution_count": 18
  },
  {
   "metadata": {
    "ExecuteTime": {
     "end_time": "2025-06-02T11:48:13.482330Z",
     "start_time": "2025-06-02T11:48:13.478345Z"
    }
   },
   "cell_type": "code",
   "source": "second_highest_salary(employee_short)",
   "id": "960484cc8c8a6856",
   "outputs": [
    {
     "data": {
      "text/plain": [
       "  SecondHighestSalary\n",
       "0                None"
      ],
      "text/html": [
       "<div>\n",
       "<style scoped>\n",
       "    .dataframe tbody tr th:only-of-type {\n",
       "        vertical-align: middle;\n",
       "    }\n",
       "\n",
       "    .dataframe tbody tr th {\n",
       "        vertical-align: top;\n",
       "    }\n",
       "\n",
       "    .dataframe thead th {\n",
       "        text-align: right;\n",
       "    }\n",
       "</style>\n",
       "<table border=\"1\" class=\"dataframe\">\n",
       "  <thead>\n",
       "    <tr style=\"text-align: right;\">\n",
       "      <th></th>\n",
       "      <th>SecondHighestSalary</th>\n",
       "    </tr>\n",
       "  </thead>\n",
       "  <tbody>\n",
       "    <tr>\n",
       "      <th>0</th>\n",
       "      <td>None</td>\n",
       "    </tr>\n",
       "  </tbody>\n",
       "</table>\n",
       "</div>"
      ]
     },
     "execution_count": 19,
     "metadata": {},
     "output_type": "execute_result"
    }
   ],
   "execution_count": 19
  },
  {
   "metadata": {},
   "cell_type": "markdown",
   "source": "### Better Solutions:",
   "id": "48ee55077681c7be"
  },
  {
   "metadata": {
    "ExecuteTime": {
     "end_time": "2025-06-02T11:50:22.908695Z",
     "start_time": "2025-06-02T11:50:22.905853Z"
    }
   },
   "cell_type": "code",
   "source": [
    "def second_highest_salary_v1(df: pd.DataFrame):\n",
    "    unique_salaries = df['salary'].drop_duplicates().nlargest(2)\n",
    "    second_highest = unique_salaries.iloc[1] if len(unique_salaries) >= 2 else None\n",
    "    return pd.DataFrame({'SecondHighestSalary': [second_highest]})"
   ],
   "id": "d6c13ee111264a10",
   "outputs": [],
   "execution_count": 21
  },
  {
   "metadata": {
    "ExecuteTime": {
     "end_time": "2025-06-02T11:50:24.941420Z",
     "start_time": "2025-06-02T11:50:24.934696Z"
    }
   },
   "cell_type": "code",
   "source": "second_highest_salary_v1(employee)",
   "id": "5ec102cdc6afc6db",
   "outputs": [
    {
     "data": {
      "text/plain": [
       "   SecondHighestSalary\n",
       "0                  200"
      ],
      "text/html": [
       "<div>\n",
       "<style scoped>\n",
       "    .dataframe tbody tr th:only-of-type {\n",
       "        vertical-align: middle;\n",
       "    }\n",
       "\n",
       "    .dataframe tbody tr th {\n",
       "        vertical-align: top;\n",
       "    }\n",
       "\n",
       "    .dataframe thead th {\n",
       "        text-align: right;\n",
       "    }\n",
       "</style>\n",
       "<table border=\"1\" class=\"dataframe\">\n",
       "  <thead>\n",
       "    <tr style=\"text-align: right;\">\n",
       "      <th></th>\n",
       "      <th>SecondHighestSalary</th>\n",
       "    </tr>\n",
       "  </thead>\n",
       "  <tbody>\n",
       "    <tr>\n",
       "      <th>0</th>\n",
       "      <td>200</td>\n",
       "    </tr>\n",
       "  </tbody>\n",
       "</table>\n",
       "</div>"
      ]
     },
     "execution_count": 22,
     "metadata": {},
     "output_type": "execute_result"
    }
   ],
   "execution_count": 22
  },
  {
   "metadata": {},
   "cell_type": "markdown",
   "source": "```nlargest(n)``` returns **at most** n elements, but if there are fewer unique values, it just returns what's available. It doesn't pad with nulls or throw an error.",
   "id": "151aa8667269dbdc"
  },
  {
   "metadata": {},
   "cell_type": "code",
   "outputs": [],
   "execution_count": null,
   "source": "",
   "id": "465470b4bc24e582"
  }
 ],
 "metadata": {
  "kernelspec": {
   "display_name": "Python 3",
   "language": "python",
   "name": "python3"
  },
  "language_info": {
   "codemirror_mode": {
    "name": "ipython",
    "version": 2
   },
   "file_extension": ".py",
   "mimetype": "text/x-python",
   "name": "python",
   "nbconvert_exporter": "python",
   "pygments_lexer": "ipython2",
   "version": "2.7.6"
  }
 },
 "nbformat": 4,
 "nbformat_minor": 5
}
