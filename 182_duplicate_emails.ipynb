{
 "cells": [
  {
   "metadata": {},
   "cell_type": "markdown",
   "source": "Write a solution to report all the duplicate emails. Note that it's a guaranteed that the email field is not NULL. Return the result table in any order.",
   "id": "85a474b4286aeec9"
  },
  {
   "cell_type": "code",
   "id": "initial_id",
   "metadata": {
    "collapsed": true,
    "ExecuteTime": {
     "end_time": "2025-06-09T13:31:21.737333Z",
     "start_time": "2025-06-09T13:31:21.184366Z"
    }
   },
   "source": "import pandas as pd",
   "outputs": [],
   "execution_count": 1
  },
  {
   "metadata": {
    "ExecuteTime": {
     "end_time": "2025-06-09T13:46:50.896422Z",
     "start_time": "2025-06-09T13:46:50.893140Z"
    }
   },
   "cell_type": "code",
   "source": [
    "person = pd.DataFrame({\n",
    "    'id': [1, 2, 3],\n",
    "    'email': ['a@b.com', 'c@d.com', 'a@b.com']\n",
    "})"
   ],
   "id": "ee1d56255cb35d9a",
   "outputs": [],
   "execution_count": 14
  },
  {
   "metadata": {
    "ExecuteTime": {
     "end_time": "2025-06-09T14:00:19.093725Z",
     "start_time": "2025-06-09T14:00:19.090353Z"
    }
   },
   "cell_type": "code",
   "source": [
    "def duplicate_emails(df):\n",
    "    email_counts = df['email'].value_counts()\n",
    "    duplicates= email_counts[email_counts > 1].index.tolist()\n",
    "    return pd.DataFrame({'Email': duplicates})"
   ],
   "id": "6f55f25fc259c0fe",
   "outputs": [],
   "execution_count": 21
  },
  {
   "metadata": {
    "ExecuteTime": {
     "end_time": "2025-06-09T14:00:19.784322Z",
     "start_time": "2025-06-09T14:00:19.778435Z"
    }
   },
   "cell_type": "code",
   "source": "duplicate_emails(person)",
   "id": "88881e829aa4d9aa",
   "outputs": [
    {
     "data": {
      "text/plain": [
       "     Email\n",
       "0  a@b.com"
      ],
      "text/html": [
       "<div>\n",
       "<style scoped>\n",
       "    .dataframe tbody tr th:only-of-type {\n",
       "        vertical-align: middle;\n",
       "    }\n",
       "\n",
       "    .dataframe tbody tr th {\n",
       "        vertical-align: top;\n",
       "    }\n",
       "\n",
       "    .dataframe thead th {\n",
       "        text-align: right;\n",
       "    }\n",
       "</style>\n",
       "<table border=\"1\" class=\"dataframe\">\n",
       "  <thead>\n",
       "    <tr style=\"text-align: right;\">\n",
       "      <th></th>\n",
       "      <th>Email</th>\n",
       "    </tr>\n",
       "  </thead>\n",
       "  <tbody>\n",
       "    <tr>\n",
       "      <th>0</th>\n",
       "      <td>a@b.com</td>\n",
       "    </tr>\n",
       "  </tbody>\n",
       "</table>\n",
       "</div>"
      ]
     },
     "execution_count": 22,
     "metadata": {},
     "output_type": "execute_result"
    }
   ],
   "execution_count": 22
  },
  {
   "metadata": {},
   "cell_type": "code",
   "outputs": [],
   "execution_count": null,
   "source": "",
   "id": "f98540abdb4a8c2d"
  }
 ],
 "metadata": {
  "kernelspec": {
   "display_name": "Python 3",
   "language": "python",
   "name": "python3"
  },
  "language_info": {
   "codemirror_mode": {
    "name": "ipython",
    "version": 2
   },
   "file_extension": ".py",
   "mimetype": "text/x-python",
   "name": "python",
   "nbconvert_exporter": "python",
   "pygments_lexer": "ipython2",
   "version": "2.7.6"
  }
 },
 "nbformat": 4,
 "nbformat_minor": 5
}
