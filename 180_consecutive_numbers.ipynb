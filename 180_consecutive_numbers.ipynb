{
 "cells": [
  {
   "metadata": {},
   "cell_type": "markdown",
   "source": "Find all numbers that appear at least three times consecutively. Return the result table in **any order**.",
   "id": "44e7b9e98d7d9438"
  },
  {
   "cell_type": "code",
   "id": "initial_id",
   "metadata": {
    "collapsed": true,
    "ExecuteTime": {
     "end_time": "2025-06-07T05:51:20.477844Z",
     "start_time": "2025-06-07T05:51:19.579357Z"
    }
   },
   "source": "import pandas as pd",
   "outputs": [],
   "execution_count": 1
  },
  {
   "metadata": {
    "ExecuteTime": {
     "end_time": "2025-06-07T05:53:35.829859Z",
     "start_time": "2025-06-07T05:53:35.816237Z"
    }
   },
   "cell_type": "code",
   "source": [
    "logs = pd.DataFrame({\n",
    "    'id': [i for i in range(1, 8)],\n",
    "    'num': [1, 1, 1, 2, 1, 2, 2]\n",
    "})\n",
    "logs"
   ],
   "id": "cbed0e3150d75e41",
   "outputs": [
    {
     "data": {
      "text/plain": [
       "   id  num\n",
       "0   1    1\n",
       "1   2    1\n",
       "2   3    1\n",
       "3   4    2\n",
       "4   5    1\n",
       "5   6    2\n",
       "6   7    2"
      ],
      "text/html": [
       "<div>\n",
       "<style scoped>\n",
       "    .dataframe tbody tr th:only-of-type {\n",
       "        vertical-align: middle;\n",
       "    }\n",
       "\n",
       "    .dataframe tbody tr th {\n",
       "        vertical-align: top;\n",
       "    }\n",
       "\n",
       "    .dataframe thead th {\n",
       "        text-align: right;\n",
       "    }\n",
       "</style>\n",
       "<table border=\"1\" class=\"dataframe\">\n",
       "  <thead>\n",
       "    <tr style=\"text-align: right;\">\n",
       "      <th></th>\n",
       "      <th>id</th>\n",
       "      <th>num</th>\n",
       "    </tr>\n",
       "  </thead>\n",
       "  <tbody>\n",
       "    <tr>\n",
       "      <th>0</th>\n",
       "      <td>1</td>\n",
       "      <td>1</td>\n",
       "    </tr>\n",
       "    <tr>\n",
       "      <th>1</th>\n",
       "      <td>2</td>\n",
       "      <td>1</td>\n",
       "    </tr>\n",
       "    <tr>\n",
       "      <th>2</th>\n",
       "      <td>3</td>\n",
       "      <td>1</td>\n",
       "    </tr>\n",
       "    <tr>\n",
       "      <th>3</th>\n",
       "      <td>4</td>\n",
       "      <td>2</td>\n",
       "    </tr>\n",
       "    <tr>\n",
       "      <th>4</th>\n",
       "      <td>5</td>\n",
       "      <td>1</td>\n",
       "    </tr>\n",
       "    <tr>\n",
       "      <th>5</th>\n",
       "      <td>6</td>\n",
       "      <td>2</td>\n",
       "    </tr>\n",
       "    <tr>\n",
       "      <th>6</th>\n",
       "      <td>7</td>\n",
       "      <td>2</td>\n",
       "    </tr>\n",
       "  </tbody>\n",
       "</table>\n",
       "</div>"
      ]
     },
     "execution_count": 2,
     "metadata": {},
     "output_type": "execute_result"
    }
   ],
   "execution_count": 2
  },
  {
   "metadata": {
    "ExecuteTime": {
     "end_time": "2025-06-07T06:42:53.299682Z",
     "start_time": "2025-06-07T06:42:53.295749Z"
    }
   },
   "cell_type": "code",
   "source": [
    "def consecutive_numbers(logs):\n",
    "    # Create lagged columns to compare with previous values\n",
    "    logs_copy = logs.copy()\n",
    "    logs_copy['prev_num'] = logs_copy['num'].shift(1)\n",
    "    logs_copy['prev_num2'] = logs_copy['num'].shift(2)\n",
    "\n",
    "    # Find rows where current number equals previous 1 and previous 2 numbers\n",
    "    consecutive_mask = (logs_copy['num'] == logs_copy['prev_num']) & \\\n",
    "                       (logs_copy['num'] == logs_copy['prev_num2'])\n",
    "\n",
    "    # Get unique numbers that satisfy the condition\n",
    "    result_nums = logs_copy[consecutive_mask]['num'].unique()\n",
    "\n",
    "    return pd.DataFrame({'ConsecutiveNums': sorted(result_nums)})"
   ],
   "id": "169f3323758c5276",
   "outputs": [],
   "execution_count": 44
  },
  {
   "metadata": {
    "ExecuteTime": {
     "end_time": "2025-06-07T06:42:58.644482Z",
     "start_time": "2025-06-07T06:42:58.639051Z"
    }
   },
   "cell_type": "code",
   "source": "consecutive_numbers(logs)",
   "id": "ed81d30873b4ba0",
   "outputs": [
    {
     "data": {
      "text/plain": [
       "   ConsecutiveNums\n",
       "0                1"
      ],
      "text/html": [
       "<div>\n",
       "<style scoped>\n",
       "    .dataframe tbody tr th:only-of-type {\n",
       "        vertical-align: middle;\n",
       "    }\n",
       "\n",
       "    .dataframe tbody tr th {\n",
       "        vertical-align: top;\n",
       "    }\n",
       "\n",
       "    .dataframe thead th {\n",
       "        text-align: right;\n",
       "    }\n",
       "</style>\n",
       "<table border=\"1\" class=\"dataframe\">\n",
       "  <thead>\n",
       "    <tr style=\"text-align: right;\">\n",
       "      <th></th>\n",
       "      <th>ConsecutiveNums</th>\n",
       "    </tr>\n",
       "  </thead>\n",
       "  <tbody>\n",
       "    <tr>\n",
       "      <th>0</th>\n",
       "      <td>1</td>\n",
       "    </tr>\n",
       "  </tbody>\n",
       "</table>\n",
       "</div>"
      ]
     },
     "execution_count": 45,
     "metadata": {},
     "output_type": "execute_result"
    }
   ],
   "execution_count": 45
  },
  {
   "metadata": {
    "ExecuteTime": {
     "end_time": "2025-06-07T07:07:01.497546Z",
     "start_time": "2025-06-07T07:07:01.493878Z"
    }
   },
   "cell_type": "code",
   "source": [
    "def consecutive_numbers2(logs):\n",
    "    \"\"\"\n",
    "    Find all numbers that appear consecutively at least 3 times.\n",
    "    Args:\n",
    "        logs: DataFrame with columns 'id' and 'num'\n",
    "    Returns:\n",
    "        DataFrame with column 'ConsecutiveNums' containing the result\n",
    "    \"\"\"\n",
    "\n",
    "    # Using shift() and cumsum() to create consecutive groups\n",
    "    # Step 1: Create a copy to avoid modifying original data\n",
    "    df = logs.copy()\n",
    "\n",
    "    # Step 2: Identify where values change from previous row\n",
    "    df['group'] = (df['num'] != df['num'].shift()).cumsum()\n",
    "\n",
    "    # Step 3: Group by consecutive groups and count occurrences\n",
    "    consecutive_counts = df.groupby(['group', 'num']).size().reset_index(name='count')\n",
    "\n",
    "    # Step 4: Filter for groups with 3 or more consecutive occurrences\n",
    "    filtered_counts = consecutive_counts[consecutive_counts['count'] >= 3]\n",
    "    result_nums = filtered_counts['num'].unique()\n",
    "\n",
    "    return pd.DataFrame({'ConsecutiveNums': sorted(result_nums)})"
   ],
   "id": "2668599c3e89c0bc",
   "outputs": [],
   "execution_count": 54
  },
  {
   "metadata": {
    "ExecuteTime": {
     "end_time": "2025-06-07T07:07:02.032716Z",
     "start_time": "2025-06-07T07:07:02.025251Z"
    }
   },
   "cell_type": "code",
   "source": "consecutive_numbers2(logs)",
   "id": "d398bff5896d7172",
   "outputs": [
    {
     "data": {
      "text/plain": [
       "   ConsecutiveNums\n",
       "0                1"
      ],
      "text/html": [
       "<div>\n",
       "<style scoped>\n",
       "    .dataframe tbody tr th:only-of-type {\n",
       "        vertical-align: middle;\n",
       "    }\n",
       "\n",
       "    .dataframe tbody tr th {\n",
       "        vertical-align: top;\n",
       "    }\n",
       "\n",
       "    .dataframe thead th {\n",
       "        text-align: right;\n",
       "    }\n",
       "</style>\n",
       "<table border=\"1\" class=\"dataframe\">\n",
       "  <thead>\n",
       "    <tr style=\"text-align: right;\">\n",
       "      <th></th>\n",
       "      <th>ConsecutiveNums</th>\n",
       "    </tr>\n",
       "  </thead>\n",
       "  <tbody>\n",
       "    <tr>\n",
       "      <th>0</th>\n",
       "      <td>1</td>\n",
       "    </tr>\n",
       "  </tbody>\n",
       "</table>\n",
       "</div>"
      ]
     },
     "execution_count": 55,
     "metadata": {},
     "output_type": "execute_result"
    }
   ],
   "execution_count": 55
  },
  {
   "metadata": {},
   "cell_type": "code",
   "outputs": [],
   "execution_count": null,
   "source": "",
   "id": "71700fb7d8f3842"
  }
 ],
 "metadata": {
  "kernelspec": {
   "display_name": "Python 3",
   "language": "python",
   "name": "python3"
  },
  "language_info": {
   "codemirror_mode": {
    "name": "ipython",
    "version": 2
   },
   "file_extension": ".py",
   "mimetype": "text/x-python",
   "name": "python",
   "nbconvert_exporter": "python",
   "pygments_lexer": "ipython2",
   "version": "2.7.6"
  }
 },
 "nbformat": 4,
 "nbformat_minor": 5
}
